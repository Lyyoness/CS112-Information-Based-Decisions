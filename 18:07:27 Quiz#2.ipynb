{
 "cells": [
  {
   "cell_type": "markdown",
   "metadata": {},
   "source": [
    "## Quiz 2\n",
    "\n",
    "\n",
    "The \"Matching\" library comes with a data set called GerberGreenImai which relates to a series of published papers. You can see some of those papers in the help function.\n",
    "\n",
    "To load the data set into working memory, type:\n",
    "data(GerberGreenImai)\n",
    "\n",
    "1. What are the dimensions of the data set (how many rows and columns)?\n",
    "> 10829x26\n",
    "\n",
    "2. What are the variable names?\n",
    "> 'PERSONS' 'WARD' 'QUESTION' 'MAILGRP' 'PHONEGRP' 'PERSNGRP' 'APPEAL' 'CONTACT' 'MAILINGS' 'AGE' 'MAJORPTY' 'VOTE96.0' 'VOTE96.1' 'MAILCALL' 'VOTED98' 'PHNSCRPT' 'DIS.MC' 'DIS.PHN' 'PHN.C' 'PHNTRT1' 'PHNTRT2' 'PHN.C1' 'PHN.C2' 'NEW' 'phone' 'AGE2'\n",
    "\n",
    "3. Is there any missing data? If so, how many elements are missing and which rows contain the missing data?\n",
    "> No missing elements\n",
    "\n",
    "4. In this data set, each column is a variable (e.g., \"AGE\", \"WARD\", etc.). Which of these variables (if any) is a factor? \n",
    "> WARD is a factor"
   ]
  },
  {
   "cell_type": "code",
   "execution_count": 54,
   "metadata": {},
   "outputs": [
    {
     "data": {
      "text/html": [
       "<table>\n",
       "<thead><tr><th></th><th scope=col>PERSONS</th><th scope=col>WARD</th><th scope=col>QUESTION</th><th scope=col>MAILGRP</th><th scope=col>PHONEGRP</th><th scope=col>PERSNGRP</th><th scope=col>APPEAL</th><th scope=col>CONTACT</th><th scope=col>MAILINGS</th><th scope=col>AGE</th><th scope=col>⋯</th><th scope=col>DIS.MC</th><th scope=col>DIS.PHN</th><th scope=col>PHN.C</th><th scope=col>PHNTRT1</th><th scope=col>PHNTRT2</th><th scope=col>PHN.C1</th><th scope=col>PHN.C2</th><th scope=col>NEW</th><th scope=col>phone</th><th scope=col>AGE2</th></tr></thead>\n",
       "<tbody>\n",
       "\t<tr><th scope=row>1221</th><td>2    </td><td>13   </td><td>0    </td><td>0    </td><td>1    </td><td>0    </td><td>3    </td><td>0    </td><td>0    </td><td>74   </td><td>⋯    </td><td>99   </td><td>1    </td><td>1    </td><td>1    </td><td>1    </td><td>1    </td><td>1    </td><td>0    </td><td>1    </td><td>54.76</td></tr>\n",
       "\t<tr><th scope=row>1228</th><td>2    </td><td>24   </td><td>1    </td><td>0    </td><td>1    </td><td>0    </td><td>3    </td><td>0    </td><td>0    </td><td>37   </td><td>⋯    </td><td>99   </td><td>1    </td><td>1    </td><td>1    </td><td>1    </td><td>1    </td><td>1    </td><td>0    </td><td>1    </td><td>13.69</td></tr>\n",
       "\t<tr><th scope=row>1236</th><td>2    </td><td>29   </td><td>1    </td><td>0    </td><td>1    </td><td>0    </td><td>2    </td><td>0    </td><td>0    </td><td>24   </td><td>⋯    </td><td>99   </td><td>1    </td><td>1    </td><td>1    </td><td>1    </td><td>1    </td><td>1    </td><td>0    </td><td>1    </td><td> 5.76</td></tr>\n",
       "</tbody>\n",
       "</table>\n"
      ],
      "text/latex": [
       "\\begin{tabular}{r|llllllllllllllllllllllllll}\n",
       "  & PERSONS & WARD & QUESTION & MAILGRP & PHONEGRP & PERSNGRP & APPEAL & CONTACT & MAILINGS & AGE & ⋯ & DIS.MC & DIS.PHN & PHN.C & PHNTRT1 & PHNTRT2 & PHN.C1 & PHN.C2 & NEW & phone & AGE2\\\\\n",
       "\\hline\n",
       "\t1221 & 2     & 13    & 0     & 0     & 1     & 0     & 3     & 0     & 0     & 74    & ⋯     & 99    & 1     & 1     & 1     & 1     & 1     & 1     & 0     & 1     & 54.76\\\\\n",
       "\t1228 & 2     & 24    & 1     & 0     & 1     & 0     & 3     & 0     & 0     & 37    & ⋯     & 99    & 1     & 1     & 1     & 1     & 1     & 1     & 0     & 1     & 13.69\\\\\n",
       "\t1236 & 2     & 29    & 1     & 0     & 1     & 0     & 2     & 0     & 0     & 24    & ⋯     & 99    & 1     & 1     & 1     & 1     & 1     & 1     & 0     & 1     &  5.76\\\\\n",
       "\\end{tabular}\n"
      ],
      "text/markdown": [
       "\n",
       "| <!--/--> | PERSONS | WARD | QUESTION | MAILGRP | PHONEGRP | PERSNGRP | APPEAL | CONTACT | MAILINGS | AGE | ⋯ | DIS.MC | DIS.PHN | PHN.C | PHNTRT1 | PHNTRT2 | PHN.C1 | PHN.C2 | NEW | phone | AGE2 | \n",
       "|---|---|---|\n",
       "| 1221 | 2     | 13    | 0     | 0     | 1     | 0     | 3     | 0     | 0     | 74    | ⋯     | 99    | 1     | 1     | 1     | 1     | 1     | 1     | 0     | 1     | 54.76 | \n",
       "| 1228 | 2     | 24    | 1     | 0     | 1     | 0     | 3     | 0     | 0     | 37    | ⋯     | 99    | 1     | 1     | 1     | 1     | 1     | 1     | 0     | 1     | 13.69 | \n",
       "| 1236 | 2     | 29    | 1     | 0     | 1     | 0     | 2     | 0     | 0     | 24    | ⋯     | 99    | 1     | 1     | 1     | 1     | 1     | 1     | 0     | 1     |  5.76 | \n",
       "\n",
       "\n"
      ],
      "text/plain": [
       "     PERSONS WARD QUESTION MAILGRP PHONEGRP PERSNGRP APPEAL CONTACT MAILINGS\n",
       "1221 2       13   0        0       1        0        3      0       0       \n",
       "1228 2       24   1        0       1        0        3      0       0       \n",
       "1236 2       29   1        0       1        0        2      0       0       \n",
       "     AGE ⋯ DIS.MC DIS.PHN PHN.C PHNTRT1 PHNTRT2 PHN.C1 PHN.C2 NEW phone AGE2 \n",
       "1221 74  ⋯ 99     1       1     1       1       1      1      0   1     54.76\n",
       "1228 37  ⋯ 99     1       1     1       1       1      1      0   1     13.69\n",
       "1236 24  ⋯ 99     1       1     1       1       1      1      0   1      5.76"
      ]
     },
     "metadata": {},
     "output_type": "display_data"
    },
    {
     "data": {
      "text/html": [
       "<ol class=list-inline>\n",
       "\t<li>10829</li>\n",
       "\t<li>26</li>\n",
       "</ol>\n"
      ],
      "text/latex": [
       "\\begin{enumerate*}\n",
       "\\item 10829\n",
       "\\item 26\n",
       "\\end{enumerate*}\n"
      ],
      "text/markdown": [
       "1. 10829\n",
       "2. 26\n",
       "\n",
       "\n"
      ],
      "text/plain": [
       "[1] 10829    26"
      ]
     },
     "metadata": {},
     "output_type": "display_data"
    },
    {
     "data": {
      "text/html": [
       "<ol class=list-inline>\n",
       "\t<li>'PERSONS'</li>\n",
       "\t<li>'WARD'</li>\n",
       "\t<li>'QUESTION'</li>\n",
       "\t<li>'MAILGRP'</li>\n",
       "\t<li>'PHONEGRP'</li>\n",
       "\t<li>'PERSNGRP'</li>\n",
       "\t<li>'APPEAL'</li>\n",
       "\t<li>'CONTACT'</li>\n",
       "\t<li>'MAILINGS'</li>\n",
       "\t<li>'AGE'</li>\n",
       "\t<li>'MAJORPTY'</li>\n",
       "\t<li>'VOTE96.0'</li>\n",
       "\t<li>'VOTE96.1'</li>\n",
       "\t<li>'MAILCALL'</li>\n",
       "\t<li>'VOTED98'</li>\n",
       "\t<li>'PHNSCRPT'</li>\n",
       "\t<li>'DIS.MC'</li>\n",
       "\t<li>'DIS.PHN'</li>\n",
       "\t<li>'PHN.C'</li>\n",
       "\t<li>'PHNTRT1'</li>\n",
       "\t<li>'PHNTRT2'</li>\n",
       "\t<li>'PHN.C1'</li>\n",
       "\t<li>'PHN.C2'</li>\n",
       "\t<li>'NEW'</li>\n",
       "\t<li>'phone'</li>\n",
       "\t<li>'AGE2'</li>\n",
       "</ol>\n"
      ],
      "text/latex": [
       "\\begin{enumerate*}\n",
       "\\item 'PERSONS'\n",
       "\\item 'WARD'\n",
       "\\item 'QUESTION'\n",
       "\\item 'MAILGRP'\n",
       "\\item 'PHONEGRP'\n",
       "\\item 'PERSNGRP'\n",
       "\\item 'APPEAL'\n",
       "\\item 'CONTACT'\n",
       "\\item 'MAILINGS'\n",
       "\\item 'AGE'\n",
       "\\item 'MAJORPTY'\n",
       "\\item 'VOTE96.0'\n",
       "\\item 'VOTE96.1'\n",
       "\\item 'MAILCALL'\n",
       "\\item 'VOTED98'\n",
       "\\item 'PHNSCRPT'\n",
       "\\item 'DIS.MC'\n",
       "\\item 'DIS.PHN'\n",
       "\\item 'PHN.C'\n",
       "\\item 'PHNTRT1'\n",
       "\\item 'PHNTRT2'\n",
       "\\item 'PHN.C1'\n",
       "\\item 'PHN.C2'\n",
       "\\item 'NEW'\n",
       "\\item 'phone'\n",
       "\\item 'AGE2'\n",
       "\\end{enumerate*}\n"
      ],
      "text/markdown": [
       "1. 'PERSONS'\n",
       "2. 'WARD'\n",
       "3. 'QUESTION'\n",
       "4. 'MAILGRP'\n",
       "5. 'PHONEGRP'\n",
       "6. 'PERSNGRP'\n",
       "7. 'APPEAL'\n",
       "8. 'CONTACT'\n",
       "9. 'MAILINGS'\n",
       "10. 'AGE'\n",
       "11. 'MAJORPTY'\n",
       "12. 'VOTE96.0'\n",
       "13. 'VOTE96.1'\n",
       "14. 'MAILCALL'\n",
       "15. 'VOTED98'\n",
       "16. 'PHNSCRPT'\n",
       "17. 'DIS.MC'\n",
       "18. 'DIS.PHN'\n",
       "19. 'PHN.C'\n",
       "20. 'PHNTRT1'\n",
       "21. 'PHNTRT2'\n",
       "22. 'PHN.C1'\n",
       "23. 'PHN.C2'\n",
       "24. 'NEW'\n",
       "25. 'phone'\n",
       "26. 'AGE2'\n",
       "\n",
       "\n"
      ],
      "text/plain": [
       " [1] \"PERSONS\"  \"WARD\"     \"QUESTION\" \"MAILGRP\"  \"PHONEGRP\" \"PERSNGRP\"\n",
       " [7] \"APPEAL\"   \"CONTACT\"  \"MAILINGS\" \"AGE\"      \"MAJORPTY\" \"VOTE96.0\"\n",
       "[13] \"VOTE96.1\" \"MAILCALL\" \"VOTED98\"  \"PHNSCRPT\" \"DIS.MC\"   \"DIS.PHN\" \n",
       "[19] \"PHN.C\"    \"PHNTRT1\"  \"PHNTRT2\"  \"PHN.C1\"   \"PHN.C2\"   \"NEW\"     \n",
       "[25] \"phone\"    \"AGE2\"    "
      ]
     },
     "metadata": {},
     "output_type": "display_data"
    },
    {
     "data": {
      "text/html": [
       "FALSE"
      ],
      "text/latex": [
       "FALSE"
      ],
      "text/markdown": [
       "FALSE"
      ],
      "text/plain": [
       "[1] FALSE"
      ]
     },
     "metadata": {},
     "output_type": "display_data"
    },
    {
     "data": {
      "text/html": [
       "<dl class=dl-horizontal>\n",
       "\t<dt>PERSONS</dt>\n",
       "\t\t<dd>FALSE</dd>\n",
       "\t<dt>WARD</dt>\n",
       "\t\t<dd>TRUE</dd>\n",
       "\t<dt>QUESTION</dt>\n",
       "\t\t<dd>FALSE</dd>\n",
       "\t<dt>MAILGRP</dt>\n",
       "\t\t<dd>FALSE</dd>\n",
       "\t<dt>PHONEGRP</dt>\n",
       "\t\t<dd>FALSE</dd>\n",
       "\t<dt>PERSNGRP</dt>\n",
       "\t\t<dd>FALSE</dd>\n",
       "\t<dt>APPEAL</dt>\n",
       "\t\t<dd>FALSE</dd>\n",
       "\t<dt>CONTACT</dt>\n",
       "\t\t<dd>FALSE</dd>\n",
       "\t<dt>MAILINGS</dt>\n",
       "\t\t<dd>FALSE</dd>\n",
       "\t<dt>AGE</dt>\n",
       "\t\t<dd>FALSE</dd>\n",
       "\t<dt>MAJORPTY</dt>\n",
       "\t\t<dd>FALSE</dd>\n",
       "\t<dt>VOTE96.0</dt>\n",
       "\t\t<dd>FALSE</dd>\n",
       "\t<dt>VOTE96.1</dt>\n",
       "\t\t<dd>FALSE</dd>\n",
       "\t<dt>MAILCALL</dt>\n",
       "\t\t<dd>FALSE</dd>\n",
       "\t<dt>VOTED98</dt>\n",
       "\t\t<dd>FALSE</dd>\n",
       "\t<dt>PHNSCRPT</dt>\n",
       "\t\t<dd>FALSE</dd>\n",
       "\t<dt>DIS.MC</dt>\n",
       "\t\t<dd>FALSE</dd>\n",
       "\t<dt>DIS.PHN</dt>\n",
       "\t\t<dd>FALSE</dd>\n",
       "\t<dt>PHN.C</dt>\n",
       "\t\t<dd>FALSE</dd>\n",
       "\t<dt>PHNTRT1</dt>\n",
       "\t\t<dd>FALSE</dd>\n",
       "\t<dt>PHNTRT2</dt>\n",
       "\t\t<dd>FALSE</dd>\n",
       "\t<dt>PHN.C1</dt>\n",
       "\t\t<dd>FALSE</dd>\n",
       "\t<dt>PHN.C2</dt>\n",
       "\t\t<dd>FALSE</dd>\n",
       "\t<dt>NEW</dt>\n",
       "\t\t<dd>FALSE</dd>\n",
       "\t<dt>phone</dt>\n",
       "\t\t<dd>FALSE</dd>\n",
       "\t<dt>AGE2</dt>\n",
       "\t\t<dd>FALSE</dd>\n",
       "</dl>\n"
      ],
      "text/latex": [
       "\\begin{description*}\n",
       "\\item[PERSONS] FALSE\n",
       "\\item[WARD] TRUE\n",
       "\\item[QUESTION] FALSE\n",
       "\\item[MAILGRP] FALSE\n",
       "\\item[PHONEGRP] FALSE\n",
       "\\item[PERSNGRP] FALSE\n",
       "\\item[APPEAL] FALSE\n",
       "\\item[CONTACT] FALSE\n",
       "\\item[MAILINGS] FALSE\n",
       "\\item[AGE] FALSE\n",
       "\\item[MAJORPTY] FALSE\n",
       "\\item[VOTE96.0] FALSE\n",
       "\\item[VOTE96.1] FALSE\n",
       "\\item[MAILCALL] FALSE\n",
       "\\item[VOTED98] FALSE\n",
       "\\item[PHNSCRPT] FALSE\n",
       "\\item[DIS.MC] FALSE\n",
       "\\item[DIS.PHN] FALSE\n",
       "\\item[PHN.C] FALSE\n",
       "\\item[PHNTRT1] FALSE\n",
       "\\item[PHNTRT2] FALSE\n",
       "\\item[PHN.C1] FALSE\n",
       "\\item[PHN.C2] FALSE\n",
       "\\item[NEW] FALSE\n",
       "\\item[phone] FALSE\n",
       "\\item[AGE2] FALSE\n",
       "\\end{description*}\n"
      ],
      "text/markdown": [
       "PERSONS\n",
       ":   FALSEWARD\n",
       ":   TRUEQUESTION\n",
       ":   FALSEMAILGRP\n",
       ":   FALSEPHONEGRP\n",
       ":   FALSEPERSNGRP\n",
       ":   FALSEAPPEAL\n",
       ":   FALSECONTACT\n",
       ":   FALSEMAILINGS\n",
       ":   FALSEAGE\n",
       ":   FALSEMAJORPTY\n",
       ":   FALSEVOTE96.0\n",
       ":   FALSEVOTE96.1\n",
       ":   FALSEMAILCALL\n",
       ":   FALSEVOTED98\n",
       ":   FALSEPHNSCRPT\n",
       ":   FALSEDIS.MC\n",
       ":   FALSEDIS.PHN\n",
       ":   FALSEPHN.C\n",
       ":   FALSEPHNTRT1\n",
       ":   FALSEPHNTRT2\n",
       ":   FALSEPHN.C1\n",
       ":   FALSEPHN.C2\n",
       ":   FALSENEW\n",
       ":   FALSEphone\n",
       ":   FALSEAGE2\n",
       ":   FALSE\n",
       "\n"
      ],
      "text/plain": [
       " PERSONS     WARD QUESTION  MAILGRP PHONEGRP PERSNGRP   APPEAL  CONTACT \n",
       "   FALSE     TRUE    FALSE    FALSE    FALSE    FALSE    FALSE    FALSE \n",
       "MAILINGS      AGE MAJORPTY VOTE96.0 VOTE96.1 MAILCALL  VOTED98 PHNSCRPT \n",
       "   FALSE    FALSE    FALSE    FALSE    FALSE    FALSE    FALSE    FALSE \n",
       "  DIS.MC  DIS.PHN    PHN.C  PHNTRT1  PHNTRT2   PHN.C1   PHN.C2      NEW \n",
       "   FALSE    FALSE    FALSE    FALSE    FALSE    FALSE    FALSE    FALSE \n",
       "   phone     AGE2 \n",
       "   FALSE    FALSE "
      ]
     },
     "metadata": {},
     "output_type": "display_data"
    }
   ],
   "source": [
    "library(Matching)\n",
    "library(fastDummies)\n",
    "library(data.table)\n",
    "\n",
    "data(GerberGreenImai)\n",
    "head(GerberGreenImai, 3)\n",
    "\n",
    "dim(GerberGreenImai)\n",
    "names(GerberGreenImai)\n",
    "\n",
    "anyNA(GerberGreenImai)\n",
    "\n",
    "sapply(GerberGreenImai, is.factor)"
   ]
  },
  {
   "cell_type": "markdown",
   "metadata": {},
   "source": [
    "5. Code a for loop that outputs column name and variable type, per the below format:\n",
    "\n",
    "column name #1  variable type #1\n",
    "\n",
    "column name #2  variable type #2\n",
    "\n",
    "column name #3  variable type #3"
   ]
  },
  {
   "cell_type": "code",
   "execution_count": 55,
   "metadata": {},
   "outputs": [
    {
     "name": "stdout",
     "output_type": "stream",
     "text": [
      "[1] \"PERSONS list\"\n",
      "[1] \"WARD list\"\n",
      "[1] \"QUESTION list\"\n",
      "[1] \"MAILGRP list\"\n",
      "[1] \"PHONEGRP list\"\n",
      "[1] \"PERSNGRP list\"\n",
      "[1] \"APPEAL list\"\n",
      "[1] \"CONTACT list\"\n",
      "[1] \"MAILINGS list\"\n",
      "[1] \"AGE list\"\n",
      "[1] \"MAJORPTY list\"\n",
      "[1] \"VOTE96.0 list\"\n",
      "[1] \"VOTE96.1 list\"\n",
      "[1] \"MAILCALL list\"\n",
      "[1] \"VOTED98 list\"\n",
      "[1] \"PHNSCRPT list\"\n",
      "[1] \"DIS.MC list\"\n",
      "[1] \"DIS.PHN list\"\n",
      "[1] \"PHN.C list\"\n",
      "[1] \"PHNTRT1 list\"\n",
      "[1] \"PHNTRT2 list\"\n",
      "[1] \"PHN.C1 list\"\n",
      "[1] \"PHN.C2 list\"\n",
      "[1] \"NEW list\"\n",
      "[1] \"phone list\"\n",
      "[1] \"AGE2 list\"\n"
     ]
    }
   ],
   "source": [
    "for (column_name in colnames(GerberGreenImai)) {\n",
    "    var_type <- mode(GerberGreenImai[column_name])\n",
    "    print(paste(column_name, var_type))\n",
    "}"
   ]
  },
  {
   "cell_type": "markdown",
   "metadata": {},
   "source": [
    "6. What do you think the variable AGE2 represents? \n",
    "> Square of age / 100\n",
    "\n",
    "7. Which individuals (and how many) voted in 1998?\n",
    "> 4861\n",
    "\n",
    "8. Which individuals (and how many) have age > 35 and did NOT vote in 1998?\n",
    "> 3662\n",
    "\n",
    "9. What line of code eliminates all rows that satisfy the conditions of Question 8?\n",
    "> See below"
   ]
  },
  {
   "cell_type": "code",
   "execution_count": 56,
   "metadata": {},
   "outputs": [
    {
     "data": {
      "text/html": [
       "<table>\n",
       "<thead><tr><th></th><th scope=col>AGE</th><th scope=col>AGE2</th></tr></thead>\n",
       "<tbody>\n",
       "\t<tr><th scope=row>1221</th><td>74   </td><td>54.76</td></tr>\n",
       "\t<tr><th scope=row>1228</th><td>37   </td><td>13.69</td></tr>\n",
       "\t<tr><th scope=row>1236</th><td>24   </td><td> 5.76</td></tr>\n",
       "\t<tr><th scope=row>1242</th><td>81   </td><td>65.61</td></tr>\n",
       "\t<tr><th scope=row>1279</th><td>34   </td><td>11.56</td></tr>\n",
       "\t<tr><th scope=row>1289</th><td>54   </td><td>29.16</td></tr>\n",
       "</tbody>\n",
       "</table>\n"
      ],
      "text/latex": [
       "\\begin{tabular}{r|ll}\n",
       "  & AGE & AGE2\\\\\n",
       "\\hline\n",
       "\t1221 & 74    & 54.76\\\\\n",
       "\t1228 & 37    & 13.69\\\\\n",
       "\t1236 & 24    &  5.76\\\\\n",
       "\t1242 & 81    & 65.61\\\\\n",
       "\t1279 & 34    & 11.56\\\\\n",
       "\t1289 & 54    & 29.16\\\\\n",
       "\\end{tabular}\n"
      ],
      "text/markdown": [
       "\n",
       "| <!--/--> | AGE | AGE2 | \n",
       "|---|---|---|---|---|---|\n",
       "| 1221 | 74    | 54.76 | \n",
       "| 1228 | 37    | 13.69 | \n",
       "| 1236 | 24    |  5.76 | \n",
       "| 1242 | 81    | 65.61 | \n",
       "| 1279 | 34    | 11.56 | \n",
       "| 1289 | 54    | 29.16 | \n",
       "\n",
       "\n"
      ],
      "text/plain": [
       "     AGE AGE2 \n",
       "1221 74  54.76\n",
       "1228 37  13.69\n",
       "1236 24   5.76\n",
       "1242 81  65.61\n",
       "1279 34  11.56\n",
       "1289 54  29.16"
      ]
     },
     "metadata": {},
     "output_type": "display_data"
    },
    {
     "data": {
      "text/html": [
       "<table>\n",
       "<thead><tr><th></th><th scope=col>AGE</th><th scope=col>AGE2</th><th scope=col>age_sqrd</th></tr></thead>\n",
       "<tbody>\n",
       "\t<tr><th scope=row>1221</th><td>74   </td><td>54.76</td><td>54.76</td></tr>\n",
       "\t<tr><th scope=row>1228</th><td>37   </td><td>13.69</td><td>13.69</td></tr>\n",
       "\t<tr><th scope=row>1236</th><td>24   </td><td> 5.76</td><td> 5.76</td></tr>\n",
       "\t<tr><th scope=row>1242</th><td>81   </td><td>65.61</td><td>65.61</td></tr>\n",
       "\t<tr><th scope=row>1279</th><td>34   </td><td>11.56</td><td>11.56</td></tr>\n",
       "\t<tr><th scope=row>1289</th><td>54   </td><td>29.16</td><td>29.16</td></tr>\n",
       "</tbody>\n",
       "</table>\n"
      ],
      "text/latex": [
       "\\begin{tabular}{r|lll}\n",
       "  & AGE & AGE2 & age\\_sqrd\\\\\n",
       "\\hline\n",
       "\t1221 & 74    & 54.76 & 54.76\\\\\n",
       "\t1228 & 37    & 13.69 & 13.69\\\\\n",
       "\t1236 & 24    &  5.76 &  5.76\\\\\n",
       "\t1242 & 81    & 65.61 & 65.61\\\\\n",
       "\t1279 & 34    & 11.56 & 11.56\\\\\n",
       "\t1289 & 54    & 29.16 & 29.16\\\\\n",
       "\\end{tabular}\n"
      ],
      "text/markdown": [
       "\n",
       "| <!--/--> | AGE | AGE2 | age_sqrd | \n",
       "|---|---|---|---|---|---|\n",
       "| 1221 | 74    | 54.76 | 54.76 | \n",
       "| 1228 | 37    | 13.69 | 13.69 | \n",
       "| 1236 | 24    |  5.76 |  5.76 | \n",
       "| 1242 | 81    | 65.61 | 65.61 | \n",
       "| 1279 | 34    | 11.56 | 11.56 | \n",
       "| 1289 | 54    | 29.16 | 29.16 | \n",
       "\n",
       "\n"
      ],
      "text/plain": [
       "     AGE AGE2  age_sqrd\n",
       "1221 74  54.76 54.76   \n",
       "1228 37  13.69 13.69   \n",
       "1236 24   5.76  5.76   \n",
       "1242 81  65.61 65.61   \n",
       "1279 34  11.56 11.56   \n",
       "1289 54  29.16 29.16   "
      ]
     },
     "metadata": {},
     "output_type": "display_data"
    },
    {
     "data": {
      "text/html": [
       "4861"
      ],
      "text/latex": [
       "4861"
      ],
      "text/markdown": [
       "4861"
      ],
      "text/plain": [
       "[1] 4861"
      ]
     },
     "metadata": {},
     "output_type": "display_data"
    },
    {
     "data": {
      "text/html": [
       "3662"
      ],
      "text/latex": [
       "3662"
      ],
      "text/markdown": [
       "3662"
      ],
      "text/plain": [
       "[1] 3662"
      ]
     },
     "metadata": {},
     "output_type": "display_data"
    }
   ],
   "source": [
    "age_mat <- GerberGreenImai[,c(\"AGE\",\"AGE2\")]\n",
    "head(age_mat)\n",
    "age_mat$age_sqrd <- sapply(age_mat$AGE, function(x) x ** 2 / 100)\n",
    "head(age_mat)\n",
    "\n",
    "length(which(GerberGreenImai$VOTED98 == 1))\n",
    "length(which(GerberGreenImai$VOTED98 == 0 & GerberGreenImai$AGE > 35))\n",
    "\n",
    "GerberGreenImai <- GerberGreenImai[-which(GerberGreenImai$VOTED98 == 0 & GerberGreenImai$AGE > 35),]"
   ]
  },
  {
   "cell_type": "markdown",
   "metadata": {},
   "source": [
    "10. Append a column that records a \"1\" if Question 8's conditions satisfy, 0 if not.\n",
    "\n",
    "Congrats, you just created a dummy variable! Google it if you have questions.\n"
   ]
  },
  {
   "cell_type": "code",
   "execution_count": 57,
   "metadata": {},
   "outputs": [
    {
     "data": {
      "text/html": [
       "<table>\n",
       "<thead><tr><th scope=col>PERSONS</th><th scope=col>WARD</th><th scope=col>QUESTION</th><th scope=col>MAILGRP</th><th scope=col>PHONEGRP</th><th scope=col>PERSNGRP</th><th scope=col>APPEAL</th><th scope=col>CONTACT</th><th scope=col>MAILINGS</th><th scope=col>AGE</th><th scope=col>⋯</th><th scope=col>DIS.PHN</th><th scope=col>PHN.C</th><th scope=col>PHNTRT1</th><th scope=col>PHNTRT2</th><th scope=col>PHN.C1</th><th scope=col>PHN.C2</th><th scope=col>NEW</th><th scope=col>phone</th><th scope=col>AGE2</th><th scope=col>Voting_Con</th></tr></thead>\n",
       "<tbody>\n",
       "\t<tr><td>2    </td><td>13   </td><td>0    </td><td>0    </td><td>1    </td><td>0    </td><td>3    </td><td>0    </td><td>0    </td><td>74   </td><td>⋯    </td><td>1    </td><td>1    </td><td>1    </td><td>1    </td><td>1    </td><td>1    </td><td>0    </td><td>1    </td><td>54.76</td><td>1    </td></tr>\n",
       "\t<tr><td>2    </td><td>29   </td><td>1    </td><td>0    </td><td>1    </td><td>0    </td><td>2    </td><td>0    </td><td>0    </td><td>24   </td><td>⋯    </td><td>1    </td><td>1    </td><td>1    </td><td>1    </td><td>1    </td><td>1    </td><td>0    </td><td>1    </td><td> 5.76</td><td>0    </td></tr>\n",
       "\t<tr><td>2    </td><td>10   </td><td>1    </td><td>0    </td><td>1    </td><td>0    </td><td>2    </td><td>0    </td><td>0    </td><td>81   </td><td>⋯    </td><td>1    </td><td>1    </td><td>1    </td><td>1    </td><td>1    </td><td>1    </td><td>0    </td><td>1    </td><td>65.61</td><td>1    </td></tr>\n",
       "\t<tr><td>2    </td><td>21   </td><td>0    </td><td>0    </td><td>1    </td><td>0    </td><td>2    </td><td>0    </td><td>0    </td><td>34   </td><td>⋯    </td><td>1    </td><td>1    </td><td>1    </td><td>1    </td><td>1    </td><td>1    </td><td>1    </td><td>1    </td><td>11.56</td><td>0    </td></tr>\n",
       "\t<tr><td>2    </td><td>20   </td><td>1    </td><td>0    </td><td>1    </td><td>0    </td><td>3    </td><td>0    </td><td>0    </td><td>54   </td><td>⋯    </td><td>1    </td><td>1    </td><td>1    </td><td>1    </td><td>1    </td><td>1    </td><td>0    </td><td>1    </td><td>29.16</td><td>1    </td></tr>\n",
       "\t<tr><td>2    </td><td>18   </td><td>1    </td><td>0    </td><td>1    </td><td>0    </td><td>3    </td><td>0    </td><td>0    </td><td>65   </td><td>⋯    </td><td>1    </td><td>1    </td><td>1    </td><td>1    </td><td>1    </td><td>1    </td><td>0    </td><td>1    </td><td>42.25</td><td>1    </td></tr>\n",
       "</tbody>\n",
       "</table>\n"
      ],
      "text/latex": [
       "\\begin{tabular}{r|lllllllllllllllllllllllllll}\n",
       " PERSONS & WARD & QUESTION & MAILGRP & PHONEGRP & PERSNGRP & APPEAL & CONTACT & MAILINGS & AGE & ⋯ & DIS.PHN & PHN.C & PHNTRT1 & PHNTRT2 & PHN.C1 & PHN.C2 & NEW & phone & AGE2 & Voting\\_Con\\\\\n",
       "\\hline\n",
       "\t 2     & 13    & 0     & 0     & 1     & 0     & 3     & 0     & 0     & 74    & ⋯     & 1     & 1     & 1     & 1     & 1     & 1     & 0     & 1     & 54.76 & 1    \\\\\n",
       "\t 2     & 29    & 1     & 0     & 1     & 0     & 2     & 0     & 0     & 24    & ⋯     & 1     & 1     & 1     & 1     & 1     & 1     & 0     & 1     &  5.76 & 0    \\\\\n",
       "\t 2     & 10    & 1     & 0     & 1     & 0     & 2     & 0     & 0     & 81    & ⋯     & 1     & 1     & 1     & 1     & 1     & 1     & 0     & 1     & 65.61 & 1    \\\\\n",
       "\t 2     & 21    & 0     & 0     & 1     & 0     & 2     & 0     & 0     & 34    & ⋯     & 1     & 1     & 1     & 1     & 1     & 1     & 1     & 1     & 11.56 & 0    \\\\\n",
       "\t 2     & 20    & 1     & 0     & 1     & 0     & 3     & 0     & 0     & 54    & ⋯     & 1     & 1     & 1     & 1     & 1     & 1     & 0     & 1     & 29.16 & 1    \\\\\n",
       "\t 2     & 18    & 1     & 0     & 1     & 0     & 3     & 0     & 0     & 65    & ⋯     & 1     & 1     & 1     & 1     & 1     & 1     & 0     & 1     & 42.25 & 1    \\\\\n",
       "\\end{tabular}\n"
      ],
      "text/markdown": [
       "\n",
       "PERSONS | WARD | QUESTION | MAILGRP | PHONEGRP | PERSNGRP | APPEAL | CONTACT | MAILINGS | AGE | ⋯ | DIS.PHN | PHN.C | PHNTRT1 | PHNTRT2 | PHN.C1 | PHN.C2 | NEW | phone | AGE2 | Voting_Con | \n",
       "|---|---|---|---|---|---|\n",
       "| 2     | 13    | 0     | 0     | 1     | 0     | 3     | 0     | 0     | 74    | ⋯     | 1     | 1     | 1     | 1     | 1     | 1     | 0     | 1     | 54.76 | 1     | \n",
       "| 2     | 29    | 1     | 0     | 1     | 0     | 2     | 0     | 0     | 24    | ⋯     | 1     | 1     | 1     | 1     | 1     | 1     | 0     | 1     |  5.76 | 0     | \n",
       "| 2     | 10    | 1     | 0     | 1     | 0     | 2     | 0     | 0     | 81    | ⋯     | 1     | 1     | 1     | 1     | 1     | 1     | 0     | 1     | 65.61 | 1     | \n",
       "| 2     | 21    | 0     | 0     | 1     | 0     | 2     | 0     | 0     | 34    | ⋯     | 1     | 1     | 1     | 1     | 1     | 1     | 1     | 1     | 11.56 | 0     | \n",
       "| 2     | 20    | 1     | 0     | 1     | 0     | 3     | 0     | 0     | 54    | ⋯     | 1     | 1     | 1     | 1     | 1     | 1     | 0     | 1     | 29.16 | 1     | \n",
       "| 2     | 18    | 1     | 0     | 1     | 0     | 3     | 0     | 0     | 65    | ⋯     | 1     | 1     | 1     | 1     | 1     | 1     | 0     | 1     | 42.25 | 1     | \n",
       "\n",
       "\n"
      ],
      "text/plain": [
       "  PERSONS WARD QUESTION MAILGRP PHONEGRP PERSNGRP APPEAL CONTACT MAILINGS AGE ⋯\n",
       "1 2       13   0        0       1        0        3      0       0        74  ⋯\n",
       "2 2       29   1        0       1        0        2      0       0        24  ⋯\n",
       "3 2       10   1        0       1        0        2      0       0        81  ⋯\n",
       "4 2       21   0        0       1        0        2      0       0        34  ⋯\n",
       "5 2       20   1        0       1        0        3      0       0        54  ⋯\n",
       "6 2       18   1        0       1        0        3      0       0        65  ⋯\n",
       "  DIS.PHN PHN.C PHNTRT1 PHNTRT2 PHN.C1 PHN.C2 NEW phone AGE2  Voting_Con\n",
       "1 1       1     1       1       1      1      0   1     54.76 1         \n",
       "2 1       1     1       1       1      1      0   1      5.76 0         \n",
       "3 1       1     1       1       1      1      0   1     65.61 1         \n",
       "4 1       1     1       1       1      1      1   1     11.56 0         \n",
       "5 1       1     1       1       1      1      0   1     29.16 1         \n",
       "6 1       1     1       1       1      1      0   1     42.25 1         "
      ]
     },
     "metadata": {},
     "output_type": "display_data"
    },
    {
     "data": {
      "text/html": [
       "<table>\n",
       "<thead><tr><th scope=col>PERSONS</th><th scope=col>WARD</th><th scope=col>QUESTION</th><th scope=col>MAILGRP</th><th scope=col>PHONEGRP</th><th scope=col>PERSNGRP</th><th scope=col>APPEAL</th><th scope=col>CONTACT</th><th scope=col>MAILINGS</th><th scope=col>AGE</th><th scope=col>⋯</th><th scope=col>PHN.C</th><th scope=col>PHNTRT1</th><th scope=col>PHNTRT2</th><th scope=col>PHN.C1</th><th scope=col>PHN.C2</th><th scope=col>NEW</th><th scope=col>phone</th><th scope=col>AGE2</th><th scope=col>Voting_Con</th><th scope=col>Voting_Con_2</th></tr></thead>\n",
       "<tbody>\n",
       "\t<tr><td>2    </td><td>13   </td><td>0    </td><td>0    </td><td>1    </td><td>0    </td><td>3    </td><td>0    </td><td>0    </td><td>74   </td><td>⋯    </td><td>1    </td><td>1    </td><td>1    </td><td>1    </td><td>1    </td><td>0    </td><td>1    </td><td>54.76</td><td>1    </td><td>1    </td></tr>\n",
       "\t<tr><td>2    </td><td>29   </td><td>1    </td><td>0    </td><td>1    </td><td>0    </td><td>2    </td><td>0    </td><td>0    </td><td>24   </td><td>⋯    </td><td>1    </td><td>1    </td><td>1    </td><td>1    </td><td>1    </td><td>0    </td><td>1    </td><td> 5.76</td><td>0    </td><td>0    </td></tr>\n",
       "\t<tr><td>2    </td><td>10   </td><td>1    </td><td>0    </td><td>1    </td><td>0    </td><td>2    </td><td>0    </td><td>0    </td><td>81   </td><td>⋯    </td><td>1    </td><td>1    </td><td>1    </td><td>1    </td><td>1    </td><td>0    </td><td>1    </td><td>65.61</td><td>1    </td><td>1    </td></tr>\n",
       "\t<tr><td>2    </td><td>21   </td><td>0    </td><td>0    </td><td>1    </td><td>0    </td><td>2    </td><td>0    </td><td>0    </td><td>34   </td><td>⋯    </td><td>1    </td><td>1    </td><td>1    </td><td>1    </td><td>1    </td><td>1    </td><td>1    </td><td>11.56</td><td>0    </td><td>0    </td></tr>\n",
       "\t<tr><td>2    </td><td>20   </td><td>1    </td><td>0    </td><td>1    </td><td>0    </td><td>3    </td><td>0    </td><td>0    </td><td>54   </td><td>⋯    </td><td>1    </td><td>1    </td><td>1    </td><td>1    </td><td>1    </td><td>0    </td><td>1    </td><td>29.16</td><td>1    </td><td>1    </td></tr>\n",
       "\t<tr><td>2    </td><td>18   </td><td>1    </td><td>0    </td><td>1    </td><td>0    </td><td>3    </td><td>0    </td><td>0    </td><td>65   </td><td>⋯    </td><td>1    </td><td>1    </td><td>1    </td><td>1    </td><td>1    </td><td>0    </td><td>1    </td><td>42.25</td><td>1    </td><td>1    </td></tr>\n",
       "</tbody>\n",
       "</table>\n"
      ],
      "text/latex": [
       "\\begin{tabular}{r|llllllllllllllllllllllllllll}\n",
       " PERSONS & WARD & QUESTION & MAILGRP & PHONEGRP & PERSNGRP & APPEAL & CONTACT & MAILINGS & AGE & ⋯ & PHN.C & PHNTRT1 & PHNTRT2 & PHN.C1 & PHN.C2 & NEW & phone & AGE2 & Voting\\_Con & Voting\\_Con\\_2\\\\\n",
       "\\hline\n",
       "\t 2     & 13    & 0     & 0     & 1     & 0     & 3     & 0     & 0     & 74    & ⋯     & 1     & 1     & 1     & 1     & 1     & 0     & 1     & 54.76 & 1     & 1    \\\\\n",
       "\t 2     & 29    & 1     & 0     & 1     & 0     & 2     & 0     & 0     & 24    & ⋯     & 1     & 1     & 1     & 1     & 1     & 0     & 1     &  5.76 & 0     & 0    \\\\\n",
       "\t 2     & 10    & 1     & 0     & 1     & 0     & 2     & 0     & 0     & 81    & ⋯     & 1     & 1     & 1     & 1     & 1     & 0     & 1     & 65.61 & 1     & 1    \\\\\n",
       "\t 2     & 21    & 0     & 0     & 1     & 0     & 2     & 0     & 0     & 34    & ⋯     & 1     & 1     & 1     & 1     & 1     & 1     & 1     & 11.56 & 0     & 0    \\\\\n",
       "\t 2     & 20    & 1     & 0     & 1     & 0     & 3     & 0     & 0     & 54    & ⋯     & 1     & 1     & 1     & 1     & 1     & 0     & 1     & 29.16 & 1     & 1    \\\\\n",
       "\t 2     & 18    & 1     & 0     & 1     & 0     & 3     & 0     & 0     & 65    & ⋯     & 1     & 1     & 1     & 1     & 1     & 0     & 1     & 42.25 & 1     & 1    \\\\\n",
       "\\end{tabular}\n"
      ],
      "text/markdown": [
       "\n",
       "PERSONS | WARD | QUESTION | MAILGRP | PHONEGRP | PERSNGRP | APPEAL | CONTACT | MAILINGS | AGE | ⋯ | PHN.C | PHNTRT1 | PHNTRT2 | PHN.C1 | PHN.C2 | NEW | phone | AGE2 | Voting_Con | Voting_Con_2 | \n",
       "|---|---|---|---|---|---|\n",
       "| 2     | 13    | 0     | 0     | 1     | 0     | 3     | 0     | 0     | 74    | ⋯     | 1     | 1     | 1     | 1     | 1     | 0     | 1     | 54.76 | 1     | 1     | \n",
       "| 2     | 29    | 1     | 0     | 1     | 0     | 2     | 0     | 0     | 24    | ⋯     | 1     | 1     | 1     | 1     | 1     | 0     | 1     |  5.76 | 0     | 0     | \n",
       "| 2     | 10    | 1     | 0     | 1     | 0     | 2     | 0     | 0     | 81    | ⋯     | 1     | 1     | 1     | 1     | 1     | 0     | 1     | 65.61 | 1     | 1     | \n",
       "| 2     | 21    | 0     | 0     | 1     | 0     | 2     | 0     | 0     | 34    | ⋯     | 1     | 1     | 1     | 1     | 1     | 1     | 1     | 11.56 | 0     | 0     | \n",
       "| 2     | 20    | 1     | 0     | 1     | 0     | 3     | 0     | 0     | 54    | ⋯     | 1     | 1     | 1     | 1     | 1     | 0     | 1     | 29.16 | 1     | 1     | \n",
       "| 2     | 18    | 1     | 0     | 1     | 0     | 3     | 0     | 0     | 65    | ⋯     | 1     | 1     | 1     | 1     | 1     | 0     | 1     | 42.25 | 1     | 1     | \n",
       "\n",
       "\n"
      ],
      "text/plain": [
       "  PERSONS WARD QUESTION MAILGRP PHONEGRP PERSNGRP APPEAL CONTACT MAILINGS AGE ⋯\n",
       "1 2       13   0        0       1        0        3      0       0        74  ⋯\n",
       "2 2       29   1        0       1        0        2      0       0        24  ⋯\n",
       "3 2       10   1        0       1        0        2      0       0        81  ⋯\n",
       "4 2       21   0        0       1        0        2      0       0        34  ⋯\n",
       "5 2       20   1        0       1        0        3      0       0        54  ⋯\n",
       "6 2       18   1        0       1        0        3      0       0        65  ⋯\n",
       "  PHN.C PHNTRT1 PHNTRT2 PHN.C1 PHN.C2 NEW phone AGE2  Voting_Con Voting_Con_2\n",
       "1 1     1       1       1      1      0   1     54.76 1          1           \n",
       "2 1     1       1       1      1      0   1      5.76 0          0           \n",
       "3 1     1       1       1      1      0   1     65.61 1          1           \n",
       "4 1     1       1       1      1      1   1     11.56 0          0           \n",
       "5 1     1       1       1      1      0   1     29.16 1          1           \n",
       "6 1     1       1       1      1      0   1     42.25 1          1           "
      ]
     },
     "metadata": {},
     "output_type": "display_data"
    }
   ],
   "source": [
    "# Creating a dummy variable\n",
    "voting_conditions <- (GerberGreenImai$VOTED98 == 1 & GerberGreenImai$AGE > 35)\n",
    "Gerber_dummy <- cbind(GerberGreenImai, voting_conditions)\n",
    "Gerber_dummy <- dummy_cols(Gerber_dummy, select_columns = \"voting_conditions\")\n",
    "\n",
    "Gerber_dummy$voting_conditions <- NULL\n",
    "Gerber_dummy$voting_conditions_FALSE <- NULL\n",
    "setnames(Gerber_dummy, old = \"voting_conditions_TRUE\", new = \"Voting_Con\")\n",
    "head(Gerber_dummy)\n",
    "\n",
    "#other way:\n",
    "Gerber_dummy <- cbind(Gerber_dummy, Voting_Con_2 = as.numeric(GerberGreenImai$VOTED98 == 1 & GerberGreenImai$AGE > 35))\n",
    "head(Gerber_dummy)"
   ]
  },
  {
   "cell_type": "markdown",
   "metadata": {},
   "source": [
    "## Advanced questions\n",
    "\n",
    "11. Write a function that performs the algorithm you identified in Question 6. (AGE2)"
   ]
  },
  {
   "cell_type": "code",
   "execution_count": 58,
   "metadata": {
    "collapsed": true
   },
   "outputs": [],
   "source": [
    "create_age2 <- function(age){\n",
    "    return(age ^ 2 / 100)\n",
    "}"
   ]
  },
  {
   "cell_type": "markdown",
   "metadata": {},
   "source": [
    "12. Run a regression w/ AGE2 and AGE as dependent and independent vars (respectively).\n",
    "Do you get statistically significant results? Is there something causal going on?\n",
    "Does the model make predictions that are not possible in the real world? Explain.\n",
    "> Results are statistically significant, but we know that Age2 is defined in terms of age, so this is to be expected. The y-intercept of this model is -24, which is an impossible age to have and allows for people with negative ages."
   ]
  },
  {
   "cell_type": "code",
   "execution_count": 59,
   "metadata": {},
   "outputs": [
    {
     "data": {
      "text/plain": [
       "\n",
       "Call:\n",
       "lm(formula = AGE2 ~ AGE, data = GerberGreenImai)\n",
       "\n",
       "Coefficients:\n",
       "(Intercept)          AGE  \n",
       "    -22.677        1.034  \n"
      ]
     },
     "metadata": {},
     "output_type": "display_data"
    },
    {
     "data": {
      "text/plain": [
       "\n",
       "Call:\n",
       "lm(formula = AGE2 ~ AGE, data = GerberGreenImai)\n",
       "\n",
       "Residuals:\n",
       "    Min      1Q  Median      3Q     Max \n",
       "-4.0552 -2.9959 -0.5577  2.0467 16.4615 \n",
       "\n",
       "Coefficients:\n",
       "              Estimate Std. Error t value Pr(>|t|)    \n",
       "(Intercept) -22.676769   0.101363  -223.7   <2e-16 ***\n",
       "AGE           1.034075   0.002007   515.3   <2e-16 ***\n",
       "---\n",
       "Signif. codes:  0 ‘***’ 0.001 ‘**’ 0.01 ‘*’ 0.05 ‘.’ 0.1 ‘ ’ 1\n",
       "\n",
       "Residual standard error: 3.31 on 7165 degrees of freedom\n",
       "Multiple R-squared:  0.9737,\tAdjusted R-squared:  0.9737 \n",
       "F-statistic: 2.656e+05 on 1 and 7165 DF,  p-value: < 2.2e-16\n"
      ]
     },
     "metadata": {},
     "output_type": "display_data"
    }
   ],
   "source": [
    "age_reg <- lm(AGE2 ~ AGE, GerberGreenImai)\n",
    "age_reg\n",
    "summary(age_reg)"
   ]
  },
  {
   "cell_type": "markdown",
   "metadata": {},
   "source": [
    "13. Consider the following code. This regression predicts whether or not a subject received a get-out-the-vote phone call based on the first 1000 observations.  What is meant by I(PERSONS*VOTE96.1)? Use the resulting regression model to make a prediction for individuals in rows 1001 and 1002. Do these predictions make sense? Why or why not?\n",
    "> I( ) is used to treat an object \"as is\". In this case to create a new variable to consider, which is equal to PERSONS or 0, based on if the person did or did not vote in 1996.\n",
    "The values we get would have to be re-interpreted, as PHN.C1 is originally a binary variable, hence values other than 0 or 1 are not good predictions."
   ]
  },
  {
   "cell_type": "code",
   "execution_count": 60,
   "metadata": {},
   "outputs": [
    {
     "data": {
      "text/plain": [
       "\n",
       "Call:\n",
       "lm(formula = PHN.C1 ~ PERSONS + VOTE96.1 + NEW + MAJORPTY + AGE + \n",
       "    WARD + I(PERSONS * VOTE96.1), data = GerberGreenImai[c(1:1000), \n",
       "    ])\n",
       "\n",
       "Residuals:\n",
       "     Min       1Q   Median       3Q      Max \n",
       "-0.15481 -0.07816 -0.04476 -0.01301  0.97401 \n",
       "\n",
       "Coefficients: (2 not defined because of singularities)\n",
       "                        Estimate Std. Error t value Pr(>|t|)  \n",
       "(Intercept)           -0.0711467  0.0541763  -1.313   0.1894  \n",
       "PERSONS                       NA         NA      NA       NA  \n",
       "VOTE96.1               0.0153214  0.0203464   0.753   0.4516  \n",
       "NEW                    0.0027261  0.0247198   0.110   0.9122  \n",
       "MAJORPTY               0.0230241  0.0170349   1.352   0.1768  \n",
       "AGE                    0.0010429  0.0004415   2.362   0.0184 *\n",
       "WARD3                  0.0007212  0.0680753   0.011   0.9915  \n",
       "WARD4                  0.0601565  0.0697877   0.862   0.3889  \n",
       "WARD5                  0.0452728  0.0698260   0.648   0.5169  \n",
       "WARD6                  0.0208120  0.0613362   0.339   0.7345  \n",
       "WARD7                  0.0104512  0.0698210   0.150   0.8810  \n",
       "WARD8                  0.0234612  0.0621721   0.377   0.7060  \n",
       "WARD9                  0.0626820  0.0618518   1.013   0.3111  \n",
       "WARD10                 0.0530490  0.0570730   0.929   0.3529  \n",
       "WARD11                 0.0827039  0.0725979   1.139   0.2549  \n",
       "WARD12                 0.0243465  0.0644383   0.378   0.7056  \n",
       "WARD13                 0.0682708  0.0597872   1.142   0.2538  \n",
       "WARD14                 0.0359354  0.0667532   0.538   0.5905  \n",
       "WARD15                -0.0007195  0.0637374  -0.011   0.9910  \n",
       "WARD16                 0.0634502  0.0717965   0.884   0.3771  \n",
       "WARD17                 0.0625684  0.0568284   1.101   0.2712  \n",
       "WARD18                 0.0692426  0.0544341   1.272   0.2037  \n",
       "WARD19                 0.0132092  0.0574842   0.230   0.8183  \n",
       "WARD20                 0.0177952  0.0629325   0.283   0.7774  \n",
       "WARD21                 0.0624265  0.0628552   0.993   0.3209  \n",
       "WARD22                 0.0041998  0.0672236   0.062   0.9502  \n",
       "WARD23                 0.0150251  0.0711861   0.211   0.8329  \n",
       "WARD24                 0.0003356  0.0590865   0.006   0.9955  \n",
       "WARD25                 0.0979151  0.0558762   1.752   0.0800 .\n",
       "WARD26                 0.0380638  0.0564162   0.675   0.5000  \n",
       "WARD27                 0.0877027  0.0596407   1.471   0.1417  \n",
       "WARD28                 0.0349374  0.0585458   0.597   0.5508  \n",
       "WARD29                 0.0700881  0.0743976   0.942   0.3464  \n",
       "WARD30                 0.0054892  0.0648255   0.085   0.9325  \n",
       "I(PERSONS * VOTE96.1)         NA         NA      NA       NA  \n",
       "---\n",
       "Signif. codes:  0 ‘***’ 0.001 ‘**’ 0.01 ‘*’ 0.05 ‘.’ 0.1 ‘ ’ 1\n",
       "\n",
       "Residual standard error: 0.2174 on 967 degrees of freedom\n",
       "Multiple R-squared:  0.03744,\tAdjusted R-squared:  0.005588 \n",
       "F-statistic: 1.175 on 32 and 967 DF,  p-value: 0.2325\n"
      ]
     },
     "metadata": {},
     "output_type": "display_data"
    },
    {
     "name": "stderr",
     "output_type": "stream",
     "text": [
      "Warning message in predict.lm(reg1, newdata = GerberGreenImai[c(1001, 1002), ]):\n",
      "“prediction from a rank-deficient fit may be misleading”"
     ]
    },
    {
     "data": {
      "text/html": [
       "<dl class=dl-horizontal>\n",
       "\t<dt>4729</dt>\n",
       "\t\t<dd>-0.00742602328489916</dd>\n",
       "\t<dt>4732</dt>\n",
       "\t\t<dd>0.00693287761445416</dd>\n",
       "</dl>\n"
      ],
      "text/latex": [
       "\\begin{description*}\n",
       "\\item[4729] -0.00742602328489916\n",
       "\\item[4732] 0.00693287761445416\n",
       "\\end{description*}\n"
      ],
      "text/markdown": [
       "4729\n",
       ":   -0.007426023284899164732\n",
       ":   0.00693287761445416\n",
       "\n"
      ],
      "text/plain": [
       "        4729         4732 \n",
       "-0.007426023  0.006932878 "
      ]
     },
     "metadata": {},
     "output_type": "display_data"
    }
   ],
   "source": [
    "reg1 <- lm(PHN.C1 ~ PERSONS + VOTE96.1 + NEW + MAJORPTY + AGE + \n",
    "         WARD + I(PERSONS*VOTE96.1), data=GerberGreenImai[c(1:1000),])\n",
    "summary(reg1) \n",
    "predict(reg1, newdata = GerberGreenImai[c(1001,1002), ])"
   ]
  },
  {
   "cell_type": "markdown",
   "metadata": {},
   "source": [
    "14. Consider the \"WARD\" variable. Observe the first 20 elements.\n",
    "What happens when you perform arithmetic or statistical operations on these elements? Why? Provide intuition for the result you obtain.\n",
    "> Since this variable is a factor, we should be unable to perform arithmetic operations on it. The numbers here are actually names of categories, not numbers."
   ]
  },
  {
   "cell_type": "code",
   "execution_count": 62,
   "metadata": {},
   "outputs": [
    {
     "data": {
      "text/html": [
       "<ol class=list-inline>\n",
       "\t<li>13</li>\n",
       "\t<li>29</li>\n",
       "\t<li>10</li>\n",
       "\t<li>21</li>\n",
       "\t<li>20</li>\n",
       "\t<li>18</li>\n",
       "\t<li>27</li>\n",
       "\t<li>4</li>\n",
       "\t<li>17</li>\n",
       "\t<li>26</li>\n",
       "\t<li>17</li>\n",
       "\t<li>9</li>\n",
       "\t<li>18</li>\n",
       "\t<li>27</li>\n",
       "\t<li>18</li>\n",
       "\t<li>10</li>\n",
       "\t<li>17</li>\n",
       "\t<li>18</li>\n",
       "\t<li>18</li>\n",
       "\t<li>27</li>\n",
       "</ol>\n"
      ],
      "text/latex": [
       "\\begin{enumerate*}\n",
       "\\item 13\n",
       "\\item 29\n",
       "\\item 10\n",
       "\\item 21\n",
       "\\item 20\n",
       "\\item 18\n",
       "\\item 27\n",
       "\\item 4\n",
       "\\item 17\n",
       "\\item 26\n",
       "\\item 17\n",
       "\\item 9\n",
       "\\item 18\n",
       "\\item 27\n",
       "\\item 18\n",
       "\\item 10\n",
       "\\item 17\n",
       "\\item 18\n",
       "\\item 18\n",
       "\\item 27\n",
       "\\end{enumerate*}\n"
      ],
      "text/markdown": [
       "1. 13\n",
       "2. 29\n",
       "3. 10\n",
       "4. 21\n",
       "5. 20\n",
       "6. 18\n",
       "7. 27\n",
       "8. 4\n",
       "9. 17\n",
       "10. 26\n",
       "11. 17\n",
       "12. 9\n",
       "13. 18\n",
       "14. 27\n",
       "15. 18\n",
       "16. 10\n",
       "17. 17\n",
       "18. 18\n",
       "19. 18\n",
       "20. 27\n",
       "\n",
       "\n"
      ],
      "text/plain": [
       " [1] 13 29 10 21 20 18 27 4  17 26 17 9  18 27 18 10 17 18 18 27\n",
       "29 Levels: 2 3 4 5 6 7 8 9 10 11 12 13 14 15 16 17 18 19 20 21 22 23 24 ... 30"
      ]
     },
     "metadata": {},
     "output_type": "display_data"
    }
   ],
   "source": [
    "GerberGreenImai$WARD[1:20]"
   ]
  }
 ],
 "metadata": {
  "kernelspec": {
   "display_name": "R",
   "language": "R",
   "name": "ir"
  },
  "language_info": {
   "codemirror_mode": "r",
   "file_extension": ".r",
   "mimetype": "text/x-r-source",
   "name": "R",
   "pygments_lexer": "r",
   "version": "3.4.3"
  }
 },
 "nbformat": 4,
 "nbformat_minor": 2
}
