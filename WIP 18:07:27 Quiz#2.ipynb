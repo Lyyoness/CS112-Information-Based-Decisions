{
 "cells": [
  {
   "cell_type": "markdown",
   "metadata": {},
   "source": [
    "## Quiz 2\n",
    "\n",
    "\n",
    "The \"Matching\" library comes with a data set called GerberGreenImai which relates to a series of published papers. You can see some of those papers in the help function.\n",
    "\n",
    "To load the data set into working memory, type:\n",
    "data(GerberGreenImai)\n",
    "\n",
    "1. What are the dimensions of the data set (how many rows and columns)?\n",
    "> 10829x26\n",
    "\n",
    "2. What are the variable names?\n",
    "> 'PERSONS' 'WARD' 'QUESTION' 'MAILGRP' 'PHONEGRP' 'PERSNGRP' 'APPEAL' 'CONTACT' 'MAILINGS' 'AGE' 'MAJORPTY' 'VOTE96.0' 'VOTE96.1' 'MAILCALL' 'VOTED98' 'PHNSCRPT' 'DIS.MC' 'DIS.PHN' 'PHN.C' 'PHNTRT1' 'PHNTRT2' 'PHN.C1' 'PHN.C2' 'NEW' 'phone' 'AGE2'\n",
    "\n",
    "3. Is there any missing data? If so, how many elements are missing and which rows contain the missing data?\n",
    "> No missing elements\n",
    "\n",
    "4. In this data set, each column is a variable (e.g., \"AGE\", \"WARD\", etc.). Which of these variables (if any) is a factor? \n",
    "> WARD is a factor"
   ]
  },
  {
   "cell_type": "code",
   "execution_count": 68,
   "metadata": {},
   "outputs": [
    {
     "name": "stderr",
     "output_type": "stream",
     "text": [
      "Warning message:\n",
      "“package ‘data.table’ was built under R version 3.4.4”"
     ]
    },
    {
     "data": {
      "text/html": [
       "<table>\n",
       "<thead><tr><th></th><th scope=col>PERSONS</th><th scope=col>WARD</th><th scope=col>QUESTION</th><th scope=col>MAILGRP</th><th scope=col>PHONEGRP</th><th scope=col>PERSNGRP</th><th scope=col>APPEAL</th><th scope=col>CONTACT</th><th scope=col>MAILINGS</th><th scope=col>AGE</th><th scope=col>⋯</th><th scope=col>DIS.MC</th><th scope=col>DIS.PHN</th><th scope=col>PHN.C</th><th scope=col>PHNTRT1</th><th scope=col>PHNTRT2</th><th scope=col>PHN.C1</th><th scope=col>PHN.C2</th><th scope=col>NEW</th><th scope=col>phone</th><th scope=col>AGE2</th></tr></thead>\n",
       "<tbody>\n",
       "\t<tr><th scope=row>1221</th><td>2    </td><td>13   </td><td>0    </td><td>0    </td><td>1    </td><td>0    </td><td>3    </td><td>0    </td><td>0    </td><td>74   </td><td>⋯    </td><td>99   </td><td>1    </td><td>1    </td><td>1    </td><td>1    </td><td>1    </td><td>1    </td><td>0    </td><td>1    </td><td>54.76</td></tr>\n",
       "\t<tr><th scope=row>1228</th><td>2    </td><td>24   </td><td>1    </td><td>0    </td><td>1    </td><td>0    </td><td>3    </td><td>0    </td><td>0    </td><td>37   </td><td>⋯    </td><td>99   </td><td>1    </td><td>1    </td><td>1    </td><td>1    </td><td>1    </td><td>1    </td><td>0    </td><td>1    </td><td>13.69</td></tr>\n",
       "\t<tr><th scope=row>1236</th><td>2    </td><td>29   </td><td>1    </td><td>0    </td><td>1    </td><td>0    </td><td>2    </td><td>0    </td><td>0    </td><td>24   </td><td>⋯    </td><td>99   </td><td>1    </td><td>1    </td><td>1    </td><td>1    </td><td>1    </td><td>1    </td><td>0    </td><td>1    </td><td> 5.76</td></tr>\n",
       "</tbody>\n",
       "</table>\n"
      ],
      "text/latex": [
       "\\begin{tabular}{r|llllllllllllllllllllllllll}\n",
       "  & PERSONS & WARD & QUESTION & MAILGRP & PHONEGRP & PERSNGRP & APPEAL & CONTACT & MAILINGS & AGE & ⋯ & DIS.MC & DIS.PHN & PHN.C & PHNTRT1 & PHNTRT2 & PHN.C1 & PHN.C2 & NEW & phone & AGE2\\\\\n",
       "\\hline\n",
       "\t1221 & 2     & 13    & 0     & 0     & 1     & 0     & 3     & 0     & 0     & 74    & ⋯     & 99    & 1     & 1     & 1     & 1     & 1     & 1     & 0     & 1     & 54.76\\\\\n",
       "\t1228 & 2     & 24    & 1     & 0     & 1     & 0     & 3     & 0     & 0     & 37    & ⋯     & 99    & 1     & 1     & 1     & 1     & 1     & 1     & 0     & 1     & 13.69\\\\\n",
       "\t1236 & 2     & 29    & 1     & 0     & 1     & 0     & 2     & 0     & 0     & 24    & ⋯     & 99    & 1     & 1     & 1     & 1     & 1     & 1     & 0     & 1     &  5.76\\\\\n",
       "\\end{tabular}\n"
      ],
      "text/markdown": [
       "\n",
       "| <!--/--> | PERSONS | WARD | QUESTION | MAILGRP | PHONEGRP | PERSNGRP | APPEAL | CONTACT | MAILINGS | AGE | ⋯ | DIS.MC | DIS.PHN | PHN.C | PHNTRT1 | PHNTRT2 | PHN.C1 | PHN.C2 | NEW | phone | AGE2 | \n",
       "|---|---|---|\n",
       "| 1221 | 2     | 13    | 0     | 0     | 1     | 0     | 3     | 0     | 0     | 74    | ⋯     | 99    | 1     | 1     | 1     | 1     | 1     | 1     | 0     | 1     | 54.76 | \n",
       "| 1228 | 2     | 24    | 1     | 0     | 1     | 0     | 3     | 0     | 0     | 37    | ⋯     | 99    | 1     | 1     | 1     | 1     | 1     | 1     | 0     | 1     | 13.69 | \n",
       "| 1236 | 2     | 29    | 1     | 0     | 1     | 0     | 2     | 0     | 0     | 24    | ⋯     | 99    | 1     | 1     | 1     | 1     | 1     | 1     | 0     | 1     |  5.76 | \n",
       "\n",
       "\n"
      ],
      "text/plain": [
       "     PERSONS WARD QUESTION MAILGRP PHONEGRP PERSNGRP APPEAL CONTACT MAILINGS\n",
       "1221 2       13   0        0       1        0        3      0       0       \n",
       "1228 2       24   1        0       1        0        3      0       0       \n",
       "1236 2       29   1        0       1        0        2      0       0       \n",
       "     AGE ⋯ DIS.MC DIS.PHN PHN.C PHNTRT1 PHNTRT2 PHN.C1 PHN.C2 NEW phone AGE2 \n",
       "1221 74  ⋯ 99     1       1     1       1       1      1      0   1     54.76\n",
       "1228 37  ⋯ 99     1       1     1       1       1      1      0   1     13.69\n",
       "1236 24  ⋯ 99     1       1     1       1       1      1      0   1      5.76"
      ]
     },
     "metadata": {},
     "output_type": "display_data"
    },
    {
     "data": {
      "text/html": [
       "<ol class=list-inline>\n",
       "\t<li>10829</li>\n",
       "\t<li>26</li>\n",
       "</ol>\n"
      ],
      "text/latex": [
       "\\begin{enumerate*}\n",
       "\\item 10829\n",
       "\\item 26\n",
       "\\end{enumerate*}\n"
      ],
      "text/markdown": [
       "1. 10829\n",
       "2. 26\n",
       "\n",
       "\n"
      ],
      "text/plain": [
       "[1] 10829    26"
      ]
     },
     "metadata": {},
     "output_type": "display_data"
    },
    {
     "data": {
      "text/html": [
       "<ol class=list-inline>\n",
       "\t<li>'PERSONS'</li>\n",
       "\t<li>'WARD'</li>\n",
       "\t<li>'QUESTION'</li>\n",
       "\t<li>'MAILGRP'</li>\n",
       "\t<li>'PHONEGRP'</li>\n",
       "\t<li>'PERSNGRP'</li>\n",
       "\t<li>'APPEAL'</li>\n",
       "\t<li>'CONTACT'</li>\n",
       "\t<li>'MAILINGS'</li>\n",
       "\t<li>'AGE'</li>\n",
       "\t<li>'MAJORPTY'</li>\n",
       "\t<li>'VOTE96.0'</li>\n",
       "\t<li>'VOTE96.1'</li>\n",
       "\t<li>'MAILCALL'</li>\n",
       "\t<li>'VOTED98'</li>\n",
       "\t<li>'PHNSCRPT'</li>\n",
       "\t<li>'DIS.MC'</li>\n",
       "\t<li>'DIS.PHN'</li>\n",
       "\t<li>'PHN.C'</li>\n",
       "\t<li>'PHNTRT1'</li>\n",
       "\t<li>'PHNTRT2'</li>\n",
       "\t<li>'PHN.C1'</li>\n",
       "\t<li>'PHN.C2'</li>\n",
       "\t<li>'NEW'</li>\n",
       "\t<li>'phone'</li>\n",
       "\t<li>'AGE2'</li>\n",
       "</ol>\n"
      ],
      "text/latex": [
       "\\begin{enumerate*}\n",
       "\\item 'PERSONS'\n",
       "\\item 'WARD'\n",
       "\\item 'QUESTION'\n",
       "\\item 'MAILGRP'\n",
       "\\item 'PHONEGRP'\n",
       "\\item 'PERSNGRP'\n",
       "\\item 'APPEAL'\n",
       "\\item 'CONTACT'\n",
       "\\item 'MAILINGS'\n",
       "\\item 'AGE'\n",
       "\\item 'MAJORPTY'\n",
       "\\item 'VOTE96.0'\n",
       "\\item 'VOTE96.1'\n",
       "\\item 'MAILCALL'\n",
       "\\item 'VOTED98'\n",
       "\\item 'PHNSCRPT'\n",
       "\\item 'DIS.MC'\n",
       "\\item 'DIS.PHN'\n",
       "\\item 'PHN.C'\n",
       "\\item 'PHNTRT1'\n",
       "\\item 'PHNTRT2'\n",
       "\\item 'PHN.C1'\n",
       "\\item 'PHN.C2'\n",
       "\\item 'NEW'\n",
       "\\item 'phone'\n",
       "\\item 'AGE2'\n",
       "\\end{enumerate*}\n"
      ],
      "text/markdown": [
       "1. 'PERSONS'\n",
       "2. 'WARD'\n",
       "3. 'QUESTION'\n",
       "4. 'MAILGRP'\n",
       "5. 'PHONEGRP'\n",
       "6. 'PERSNGRP'\n",
       "7. 'APPEAL'\n",
       "8. 'CONTACT'\n",
       "9. 'MAILINGS'\n",
       "10. 'AGE'\n",
       "11. 'MAJORPTY'\n",
       "12. 'VOTE96.0'\n",
       "13. 'VOTE96.1'\n",
       "14. 'MAILCALL'\n",
       "15. 'VOTED98'\n",
       "16. 'PHNSCRPT'\n",
       "17. 'DIS.MC'\n",
       "18. 'DIS.PHN'\n",
       "19. 'PHN.C'\n",
       "20. 'PHNTRT1'\n",
       "21. 'PHNTRT2'\n",
       "22. 'PHN.C1'\n",
       "23. 'PHN.C2'\n",
       "24. 'NEW'\n",
       "25. 'phone'\n",
       "26. 'AGE2'\n",
       "\n",
       "\n"
      ],
      "text/plain": [
       " [1] \"PERSONS\"  \"WARD\"     \"QUESTION\" \"MAILGRP\"  \"PHONEGRP\" \"PERSNGRP\"\n",
       " [7] \"APPEAL\"   \"CONTACT\"  \"MAILINGS\" \"AGE\"      \"MAJORPTY\" \"VOTE96.0\"\n",
       "[13] \"VOTE96.1\" \"MAILCALL\" \"VOTED98\"  \"PHNSCRPT\" \"DIS.MC\"   \"DIS.PHN\" \n",
       "[19] \"PHN.C\"    \"PHNTRT1\"  \"PHNTRT2\"  \"PHN.C1\"   \"PHN.C2\"   \"NEW\"     \n",
       "[25] \"phone\"    \"AGE2\"    "
      ]
     },
     "metadata": {},
     "output_type": "display_data"
    },
    {
     "data": {
      "text/html": [
       "FALSE"
      ],
      "text/latex": [
       "FALSE"
      ],
      "text/markdown": [
       "FALSE"
      ],
      "text/plain": [
       "[1] FALSE"
      ]
     },
     "metadata": {},
     "output_type": "display_data"
    },
    {
     "data": {
      "text/html": [
       "<dl class=dl-horizontal>\n",
       "\t<dt>PERSONS</dt>\n",
       "\t\t<dd>FALSE</dd>\n",
       "\t<dt>WARD</dt>\n",
       "\t\t<dd>TRUE</dd>\n",
       "\t<dt>QUESTION</dt>\n",
       "\t\t<dd>FALSE</dd>\n",
       "\t<dt>MAILGRP</dt>\n",
       "\t\t<dd>FALSE</dd>\n",
       "\t<dt>PHONEGRP</dt>\n",
       "\t\t<dd>FALSE</dd>\n",
       "\t<dt>PERSNGRP</dt>\n",
       "\t\t<dd>FALSE</dd>\n",
       "\t<dt>APPEAL</dt>\n",
       "\t\t<dd>FALSE</dd>\n",
       "\t<dt>CONTACT</dt>\n",
       "\t\t<dd>FALSE</dd>\n",
       "\t<dt>MAILINGS</dt>\n",
       "\t\t<dd>FALSE</dd>\n",
       "\t<dt>AGE</dt>\n",
       "\t\t<dd>FALSE</dd>\n",
       "\t<dt>MAJORPTY</dt>\n",
       "\t\t<dd>FALSE</dd>\n",
       "\t<dt>VOTE96.0</dt>\n",
       "\t\t<dd>FALSE</dd>\n",
       "\t<dt>VOTE96.1</dt>\n",
       "\t\t<dd>FALSE</dd>\n",
       "\t<dt>MAILCALL</dt>\n",
       "\t\t<dd>FALSE</dd>\n",
       "\t<dt>VOTED98</dt>\n",
       "\t\t<dd>FALSE</dd>\n",
       "\t<dt>PHNSCRPT</dt>\n",
       "\t\t<dd>FALSE</dd>\n",
       "\t<dt>DIS.MC</dt>\n",
       "\t\t<dd>FALSE</dd>\n",
       "\t<dt>DIS.PHN</dt>\n",
       "\t\t<dd>FALSE</dd>\n",
       "\t<dt>PHN.C</dt>\n",
       "\t\t<dd>FALSE</dd>\n",
       "\t<dt>PHNTRT1</dt>\n",
       "\t\t<dd>FALSE</dd>\n",
       "\t<dt>PHNTRT2</dt>\n",
       "\t\t<dd>FALSE</dd>\n",
       "\t<dt>PHN.C1</dt>\n",
       "\t\t<dd>FALSE</dd>\n",
       "\t<dt>PHN.C2</dt>\n",
       "\t\t<dd>FALSE</dd>\n",
       "\t<dt>NEW</dt>\n",
       "\t\t<dd>FALSE</dd>\n",
       "\t<dt>phone</dt>\n",
       "\t\t<dd>FALSE</dd>\n",
       "\t<dt>AGE2</dt>\n",
       "\t\t<dd>FALSE</dd>\n",
       "</dl>\n"
      ],
      "text/latex": [
       "\\begin{description*}\n",
       "\\item[PERSONS] FALSE\n",
       "\\item[WARD] TRUE\n",
       "\\item[QUESTION] FALSE\n",
       "\\item[MAILGRP] FALSE\n",
       "\\item[PHONEGRP] FALSE\n",
       "\\item[PERSNGRP] FALSE\n",
       "\\item[APPEAL] FALSE\n",
       "\\item[CONTACT] FALSE\n",
       "\\item[MAILINGS] FALSE\n",
       "\\item[AGE] FALSE\n",
       "\\item[MAJORPTY] FALSE\n",
       "\\item[VOTE96.0] FALSE\n",
       "\\item[VOTE96.1] FALSE\n",
       "\\item[MAILCALL] FALSE\n",
       "\\item[VOTED98] FALSE\n",
       "\\item[PHNSCRPT] FALSE\n",
       "\\item[DIS.MC] FALSE\n",
       "\\item[DIS.PHN] FALSE\n",
       "\\item[PHN.C] FALSE\n",
       "\\item[PHNTRT1] FALSE\n",
       "\\item[PHNTRT2] FALSE\n",
       "\\item[PHN.C1] FALSE\n",
       "\\item[PHN.C2] FALSE\n",
       "\\item[NEW] FALSE\n",
       "\\item[phone] FALSE\n",
       "\\item[AGE2] FALSE\n",
       "\\end{description*}\n"
      ],
      "text/markdown": [
       "PERSONS\n",
       ":   FALSEWARD\n",
       ":   TRUEQUESTION\n",
       ":   FALSEMAILGRP\n",
       ":   FALSEPHONEGRP\n",
       ":   FALSEPERSNGRP\n",
       ":   FALSEAPPEAL\n",
       ":   FALSECONTACT\n",
       ":   FALSEMAILINGS\n",
       ":   FALSEAGE\n",
       ":   FALSEMAJORPTY\n",
       ":   FALSEVOTE96.0\n",
       ":   FALSEVOTE96.1\n",
       ":   FALSEMAILCALL\n",
       ":   FALSEVOTED98\n",
       ":   FALSEPHNSCRPT\n",
       ":   FALSEDIS.MC\n",
       ":   FALSEDIS.PHN\n",
       ":   FALSEPHN.C\n",
       ":   FALSEPHNTRT1\n",
       ":   FALSEPHNTRT2\n",
       ":   FALSEPHN.C1\n",
       ":   FALSEPHN.C2\n",
       ":   FALSENEW\n",
       ":   FALSEphone\n",
       ":   FALSEAGE2\n",
       ":   FALSE\n",
       "\n"
      ],
      "text/plain": [
       " PERSONS     WARD QUESTION  MAILGRP PHONEGRP PERSNGRP   APPEAL  CONTACT \n",
       "   FALSE     TRUE    FALSE    FALSE    FALSE    FALSE    FALSE    FALSE \n",
       "MAILINGS      AGE MAJORPTY VOTE96.0 VOTE96.1 MAILCALL  VOTED98 PHNSCRPT \n",
       "   FALSE    FALSE    FALSE    FALSE    FALSE    FALSE    FALSE    FALSE \n",
       "  DIS.MC  DIS.PHN    PHN.C  PHNTRT1  PHNTRT2   PHN.C1   PHN.C2      NEW \n",
       "   FALSE    FALSE    FALSE    FALSE    FALSE    FALSE    FALSE    FALSE \n",
       "   phone     AGE2 \n",
       "   FALSE    FALSE "
      ]
     },
     "metadata": {},
     "output_type": "display_data"
    }
   ],
   "source": [
    "library(Matching)\n",
    "library(fastDummies)\n",
    "library(data.table)\n",
    "\n",
    "data(GerberGreenImai)\n",
    "head(GerberGreenImai, 3)\n",
    "\n",
    "dim(GerberGreenImai)\n",
    "names(GerberGreenImai)\n",
    "\n",
    "anyNA(GerberGreenImai)\n",
    "\n",
    "sapply(GerberGreenImai, is.factor)"
   ]
  },
  {
   "cell_type": "markdown",
   "metadata": {},
   "source": [
    "5. Code a for loop that outputs column name and variable type, per the below format:\n",
    "\n",
    "column name #1  variable type #1\n",
    "\n",
    "column name #2  variable type #2\n",
    "\n",
    "column name #3  variable type #3"
   ]
  },
  {
   "cell_type": "code",
   "execution_count": 17,
   "metadata": {},
   "outputs": [
    {
     "name": "stdout",
     "output_type": "stream",
     "text": [
      "[1] \"PERSONS list\"\n",
      "[1] \"WARD list\"\n",
      "[1] \"QUESTION list\"\n",
      "[1] \"MAILGRP list\"\n",
      "[1] \"PHONEGRP list\"\n",
      "[1] \"PERSNGRP list\"\n",
      "[1] \"APPEAL list\"\n",
      "[1] \"CONTACT list\"\n",
      "[1] \"MAILINGS list\"\n",
      "[1] \"AGE list\"\n",
      "[1] \"MAJORPTY list\"\n",
      "[1] \"VOTE96.0 list\"\n",
      "[1] \"VOTE96.1 list\"\n",
      "[1] \"MAILCALL list\"\n",
      "[1] \"VOTED98 list\"\n",
      "[1] \"PHNSCRPT list\"\n",
      "[1] \"DIS.MC list\"\n",
      "[1] \"DIS.PHN list\"\n",
      "[1] \"PHN.C list\"\n",
      "[1] \"PHNTRT1 list\"\n",
      "[1] \"PHNTRT2 list\"\n",
      "[1] \"PHN.C1 list\"\n",
      "[1] \"PHN.C2 list\"\n",
      "[1] \"NEW list\"\n",
      "[1] \"phone list\"\n",
      "[1] \"AGE2 list\"\n"
     ]
    }
   ],
   "source": [
    "for (column_name in colnames(GerberGreenImai)) {\n",
    "    var_type <- mode(GerberGreenImai[column_name])\n",
    "    print(paste(column_name, var_type))\n",
    "}"
   ]
  },
  {
   "cell_type": "markdown",
   "metadata": {},
   "source": [
    "6. What do you think the variable AGE2 represents? \n",
    "> The ?GerberGreenImail claims that they are the square of AGE, but their are neither the square, nor the squareroot..\n",
    "\n",
    "7. Which individuals (and how many) voted in 1998?\n",
    "> 4861\n",
    "\n",
    "8. Which individuals (and how many) have age > 35 and did NOT vote in 1998?\n",
    "> 4182\n",
    "\n",
    "9. What line of code eliminates all rows that satisfy the conditions of Question 8?\n",
    "> See below (leaving 6647 people)\n",
    "\n",
    "10. Append a column that records a \"1\" if Question 8's conditions satisfy, 0 if not.\n",
    "\n",
    "Congrats, you just created a dummy variable! Google it if you have questions.\n"
   ]
  },
  {
   "cell_type": "code",
   "execution_count": 69,
   "metadata": {},
   "outputs": [
    {
     "data": {
      "text/html": [
       "<table>\n",
       "<thead><tr><th></th><th scope=col>AGE</th><th scope=col>AGE2</th></tr></thead>\n",
       "<tbody>\n",
       "\t<tr><th scope=row>1221</th><td>74   </td><td>54.76</td></tr>\n",
       "\t<tr><th scope=row>1228</th><td>37   </td><td>13.69</td></tr>\n",
       "\t<tr><th scope=row>1236</th><td>24   </td><td> 5.76</td></tr>\n",
       "\t<tr><th scope=row>1242</th><td>81   </td><td>65.61</td></tr>\n",
       "\t<tr><th scope=row>1279</th><td>34   </td><td>11.56</td></tr>\n",
       "\t<tr><th scope=row>1289</th><td>54   </td><td>29.16</td></tr>\n",
       "</tbody>\n",
       "</table>\n"
      ],
      "text/latex": [
       "\\begin{tabular}{r|ll}\n",
       "  & AGE & AGE2\\\\\n",
       "\\hline\n",
       "\t1221 & 74    & 54.76\\\\\n",
       "\t1228 & 37    & 13.69\\\\\n",
       "\t1236 & 24    &  5.76\\\\\n",
       "\t1242 & 81    & 65.61\\\\\n",
       "\t1279 & 34    & 11.56\\\\\n",
       "\t1289 & 54    & 29.16\\\\\n",
       "\\end{tabular}\n"
      ],
      "text/markdown": [
       "\n",
       "| <!--/--> | AGE | AGE2 | \n",
       "|---|---|---|---|---|---|\n",
       "| 1221 | 74    | 54.76 | \n",
       "| 1228 | 37    | 13.69 | \n",
       "| 1236 | 24    |  5.76 | \n",
       "| 1242 | 81    | 65.61 | \n",
       "| 1279 | 34    | 11.56 | \n",
       "| 1289 | 54    | 29.16 | \n",
       "\n",
       "\n"
      ],
      "text/plain": [
       "     AGE AGE2 \n",
       "1221 74  54.76\n",
       "1228 37  13.69\n",
       "1236 24   5.76\n",
       "1242 81  65.61\n",
       "1279 34  11.56\n",
       "1289 54  29.16"
      ]
     },
     "metadata": {},
     "output_type": "display_data"
    },
    {
     "data": {
      "text/html": [
       "<table>\n",
       "<tbody>\n",
       "\t<tr><th scope=row>1221</th></tr>\n",
       "\t<tr><th scope=row>1228</th></tr>\n",
       "\t<tr><th scope=row>1236</th></tr>\n",
       "\t<tr><th scope=row>1242</th></tr>\n",
       "\t<tr><th scope=row>1279</th></tr>\n",
       "\t<tr><th scope=row>1289</th></tr>\n",
       "</tbody>\n",
       "</table>\n"
      ],
      "text/latex": [
       "\\begin{tabular}{r|}\n",
       "\t1221\\\\\n",
       "\t1228\\\\\n",
       "\t1236\\\\\n",
       "\t1242\\\\\n",
       "\t1279\\\\\n",
       "\t1289\\\\\n",
       "\\end{tabular}\n"
      ],
      "text/markdown": [
       "\n",
       "| 1221 | \n",
       "| 1228 | \n",
       "| 1236 | \n",
       "| 1242 | \n",
       "| 1279 | \n",
       "| 1289 | \n",
       "\n",
       "\n"
      ],
      "text/plain": [
       "    \n",
       "1221\n",
       "1228\n",
       "1236\n",
       "1242\n",
       "1279\n",
       "1289"
      ]
     },
     "metadata": {},
     "output_type": "display_data"
    },
    {
     "data": {
      "text/html": [
       "4861"
      ],
      "text/latex": [
       "4861"
      ],
      "text/markdown": [
       "4861"
      ],
      "text/plain": [
       "[1] 4861"
      ]
     },
     "metadata": {},
     "output_type": "display_data"
    },
    {
     "data": {
      "text/html": [
       "4182"
      ],
      "text/latex": [
       "4182"
      ],
      "text/markdown": [
       "4182"
      ],
      "text/plain": [
       "[1] 4182"
      ]
     },
     "metadata": {},
     "output_type": "display_data"
    },
    {
     "data": {
      "text/html": [
       "6647"
      ],
      "text/latex": [
       "6647"
      ],
      "text/markdown": [
       "6647"
      ],
      "text/plain": [
       "[1] 6647"
      ]
     },
     "metadata": {},
     "output_type": "display_data"
    },
    {
     "data": {
      "text/html": [
       "<table>\n",
       "<thead><tr><th scope=col>PERSONS</th><th scope=col>WARD</th><th scope=col>QUESTION</th><th scope=col>MAILGRP</th><th scope=col>PHONEGRP</th><th scope=col>PERSNGRP</th><th scope=col>APPEAL</th><th scope=col>CONTACT</th><th scope=col>MAILINGS</th><th scope=col>AGE</th><th scope=col>⋯</th><th scope=col>DIS.PHN</th><th scope=col>PHN.C</th><th scope=col>PHNTRT1</th><th scope=col>PHNTRT2</th><th scope=col>PHN.C1</th><th scope=col>PHN.C2</th><th scope=col>NEW</th><th scope=col>phone</th><th scope=col>AGE2</th><th scope=col>Voting_Con</th></tr></thead>\n",
       "<tbody>\n",
       "\t<tr><td>2    </td><td>13   </td><td>0    </td><td>0    </td><td>1    </td><td>0    </td><td>3    </td><td>0    </td><td>0    </td><td>74   </td><td>⋯    </td><td>1    </td><td>1    </td><td>1    </td><td>1    </td><td>1    </td><td>1    </td><td>0    </td><td>1    </td><td>54.76</td><td>1    </td></tr>\n",
       "\t<tr><td>2    </td><td>24   </td><td>1    </td><td>0    </td><td>1    </td><td>0    </td><td>3    </td><td>0    </td><td>0    </td><td>37   </td><td>⋯    </td><td>1    </td><td>1    </td><td>1    </td><td>1    </td><td>1    </td><td>1    </td><td>0    </td><td>1    </td><td>13.69</td><td>0    </td></tr>\n",
       "\t<tr><td>2    </td><td>29   </td><td>1    </td><td>0    </td><td>1    </td><td>0    </td><td>2    </td><td>0    </td><td>0    </td><td>24   </td><td>⋯    </td><td>1    </td><td>1    </td><td>1    </td><td>1    </td><td>1    </td><td>1    </td><td>0    </td><td>1    </td><td> 5.76</td><td>0    </td></tr>\n",
       "\t<tr><td>2    </td><td>10   </td><td>1    </td><td>0    </td><td>1    </td><td>0    </td><td>2    </td><td>0    </td><td>0    </td><td>81   </td><td>⋯    </td><td>1    </td><td>1    </td><td>1    </td><td>1    </td><td>1    </td><td>1    </td><td>0    </td><td>1    </td><td>65.61</td><td>1    </td></tr>\n",
       "\t<tr><td>2    </td><td>21   </td><td>0    </td><td>0    </td><td>1    </td><td>0    </td><td>2    </td><td>0    </td><td>0    </td><td>34   </td><td>⋯    </td><td>1    </td><td>1    </td><td>1    </td><td>1    </td><td>1    </td><td>1    </td><td>1    </td><td>1    </td><td>11.56</td><td>0    </td></tr>\n",
       "\t<tr><td>2    </td><td>20   </td><td>1    </td><td>0    </td><td>1    </td><td>0    </td><td>3    </td><td>0    </td><td>0    </td><td>54   </td><td>⋯    </td><td>1    </td><td>1    </td><td>1    </td><td>1    </td><td>1    </td><td>1    </td><td>0    </td><td>1    </td><td>29.16</td><td>1    </td></tr>\n",
       "</tbody>\n",
       "</table>\n"
      ],
      "text/latex": [
       "\\begin{tabular}{r|lllllllllllllllllllllllllll}\n",
       " PERSONS & WARD & QUESTION & MAILGRP & PHONEGRP & PERSNGRP & APPEAL & CONTACT & MAILINGS & AGE & ⋯ & DIS.PHN & PHN.C & PHNTRT1 & PHNTRT2 & PHN.C1 & PHN.C2 & NEW & phone & AGE2 & Voting\\_Con\\\\\n",
       "\\hline\n",
       "\t 2     & 13    & 0     & 0     & 1     & 0     & 3     & 0     & 0     & 74    & ⋯     & 1     & 1     & 1     & 1     & 1     & 1     & 0     & 1     & 54.76 & 1    \\\\\n",
       "\t 2     & 24    & 1     & 0     & 1     & 0     & 3     & 0     & 0     & 37    & ⋯     & 1     & 1     & 1     & 1     & 1     & 1     & 0     & 1     & 13.69 & 0    \\\\\n",
       "\t 2     & 29    & 1     & 0     & 1     & 0     & 2     & 0     & 0     & 24    & ⋯     & 1     & 1     & 1     & 1     & 1     & 1     & 0     & 1     &  5.76 & 0    \\\\\n",
       "\t 2     & 10    & 1     & 0     & 1     & 0     & 2     & 0     & 0     & 81    & ⋯     & 1     & 1     & 1     & 1     & 1     & 1     & 0     & 1     & 65.61 & 1    \\\\\n",
       "\t 2     & 21    & 0     & 0     & 1     & 0     & 2     & 0     & 0     & 34    & ⋯     & 1     & 1     & 1     & 1     & 1     & 1     & 1     & 1     & 11.56 & 0    \\\\\n",
       "\t 2     & 20    & 1     & 0     & 1     & 0     & 3     & 0     & 0     & 54    & ⋯     & 1     & 1     & 1     & 1     & 1     & 1     & 0     & 1     & 29.16 & 1    \\\\\n",
       "\\end{tabular}\n"
      ],
      "text/markdown": [
       "\n",
       "PERSONS | WARD | QUESTION | MAILGRP | PHONEGRP | PERSNGRP | APPEAL | CONTACT | MAILINGS | AGE | ⋯ | DIS.PHN | PHN.C | PHNTRT1 | PHNTRT2 | PHN.C1 | PHN.C2 | NEW | phone | AGE2 | Voting_Con | \n",
       "|---|---|---|---|---|---|\n",
       "| 2     | 13    | 0     | 0     | 1     | 0     | 3     | 0     | 0     | 74    | ⋯     | 1     | 1     | 1     | 1     | 1     | 1     | 0     | 1     | 54.76 | 1     | \n",
       "| 2     | 24    | 1     | 0     | 1     | 0     | 3     | 0     | 0     | 37    | ⋯     | 1     | 1     | 1     | 1     | 1     | 1     | 0     | 1     | 13.69 | 0     | \n",
       "| 2     | 29    | 1     | 0     | 1     | 0     | 2     | 0     | 0     | 24    | ⋯     | 1     | 1     | 1     | 1     | 1     | 1     | 0     | 1     |  5.76 | 0     | \n",
       "| 2     | 10    | 1     | 0     | 1     | 0     | 2     | 0     | 0     | 81    | ⋯     | 1     | 1     | 1     | 1     | 1     | 1     | 0     | 1     | 65.61 | 1     | \n",
       "| 2     | 21    | 0     | 0     | 1     | 0     | 2     | 0     | 0     | 34    | ⋯     | 1     | 1     | 1     | 1     | 1     | 1     | 1     | 1     | 11.56 | 0     | \n",
       "| 2     | 20    | 1     | 0     | 1     | 0     | 3     | 0     | 0     | 54    | ⋯     | 1     | 1     | 1     | 1     | 1     | 1     | 0     | 1     | 29.16 | 1     | \n",
       "\n",
       "\n"
      ],
      "text/plain": [
       "  PERSONS WARD QUESTION MAILGRP PHONEGRP PERSNGRP APPEAL CONTACT MAILINGS AGE ⋯\n",
       "1 2       13   0        0       1        0        3      0       0        74  ⋯\n",
       "2 2       24   1        0       1        0        3      0       0        37  ⋯\n",
       "3 2       29   1        0       1        0        2      0       0        24  ⋯\n",
       "4 2       10   1        0       1        0        2      0       0        81  ⋯\n",
       "5 2       21   0        0       1        0        2      0       0        34  ⋯\n",
       "6 2       20   1        0       1        0        3      0       0        54  ⋯\n",
       "  DIS.PHN PHN.C PHNTRT1 PHNTRT2 PHN.C1 PHN.C2 NEW phone AGE2  Voting_Con\n",
       "1 1       1     1       1       1      1      0   1     54.76 1         \n",
       "2 1       1     1       1       1      1      0   1     13.69 0         \n",
       "3 1       1     1       1       1      1      0   1      5.76 0         \n",
       "4 1       1     1       1       1      1      0   1     65.61 1         \n",
       "5 1       1     1       1       1      1      1   1     11.56 0         \n",
       "6 1       1     1       1       1      1      0   1     29.16 1         "
      ]
     },
     "metadata": {},
     "output_type": "display_data"
    }
   ],
   "source": [
    "age_mat <- GerberGreenImai[,c(\"AGE\",\"AGE2\")]\n",
    "head(age_mat)\n",
    "age_sqrd <- sapply(age_mat$AGE, sqrt)\n",
    "head(age_mat[age_sqrd == age_mat$AGE2])\n",
    "\n",
    "nrow(GerberGreenImai[GerberGreenImai$VOTED98 == 1,])\n",
    "nrow(GerberGreenImai[(GerberGreenImai$VOTED98 == 1 & GerberGreenImai$AGE > 35),])\n",
    "\n",
    "nrow(GerberGreenImai[!(GerberGreenImai$VOTED98 == 1 & GerberGreenImai$AGE > 35),])\n",
    "\n",
    "# Creating a dummy variable\n",
    "voting_conditions <- (GerberGreenImai$VOTED98 == 1 & GerberGreenImai$AGE > 35)\n",
    "Gerber_dummy <- cbind(GerberGreenImai, voting_conditions)\n",
    "Gerber_dummy <- dummy_cols(Gerber_dummy, select_columns = \"voting_conditions\")\n",
    "\n",
    "Gerber_dummy$voting_conditions <- NULL\n",
    "Gerber_dummy$voting_conditions_FALSE <- NULL\n",
    "setnames(Gerber_dummy, old = \"voting_conditions_TRUE\", new = \"Voting_Con\")\n",
    "head(Gerber_dummy)"
   ]
  },
  {
   "cell_type": "markdown",
   "metadata": {},
   "source": [
    "## Advanced questions\n",
    "\n",
    "11. Write a function that performs the algorithm you identified in Question 6. (AGE2)\n",
    "\n",
    "12. Run a regression w/ AGE2 and AGE as dependent and independent vars (respectively).\n",
    "Do you get statistically significant results? Is there something causal going on?\n",
    "Does the model make predictions that are not possible in the real world? Explain.\n",
    "\n",
    "13. (hint: see the help page for \"formula\") Consider the following code:\n",
    "\n",
    "reg1 <- lm(PHN.C1 ~ PERSONS + VOTE96.1 + NEW + MAJORPTY + AGE + \n",
    "         WARD + I(PERSONS*VOTE96.1), data=GerberGreenImai[c(1:1000),])\n",
    "         \n",
    "you can then type something like \"summary(reg1)\"...\n",
    "                 \n",
    "This regression predicts whether or not a subject received a get-out-the-vote phone call based on the first 1000 observations. \n",
    "\n",
    "What is meant by I(PERSONS*VOTE96.1)? Use the resulting regression\n",
    "model to make a prediction for individuals in rows 1001 and 1002. Do these predictions make sense? Why or why not?\n",
    "\n",
    "14. Consider the \"WARD\" variable. Observe the first 20 elements.\n",
    "What happens when you perform arithmetic or statistical operations on these elements? Why? Provide intuition for the result you obtain.\n",
    "\n",
    "15. Write code that takes the \"WARD\" variable and creates dummy variables for each individual ward. We can call this \"dummy-fying\" a categorical variable.\n",
    "\n",
    "Given your answer to Question 14, do you see why you would want to \"dummy-fy\" this variable prior to performing statistical analysis on it (and variables likes this one)?"
   ]
  },
  {
   "cell_type": "code",
   "execution_count": null,
   "metadata": {
    "collapsed": true
   },
   "outputs": [],
   "source": []
  }
 ],
 "metadata": {
  "kernelspec": {
   "display_name": "R",
   "language": "R",
   "name": "ir"
  },
  "language_info": {
   "codemirror_mode": "r",
   "file_extension": ".r",
   "mimetype": "text/x-r-source",
   "name": "R",
   "pygments_lexer": "r",
   "version": "3.4.3"
  }
 },
 "nbformat": 4,
 "nbformat_minor": 2
}
